{
  "nbformat": 4,
  "nbformat_minor": 0,
  "metadata": {
    "colab": {
      "name": "k-means clustering for customer segmentation.ipynb",
      "provenance": [],
      "collapsed_sections": [],
      "authorship_tag": "ABX9TyMqaKjVNn9knry6MxdTSXXP",
      "include_colab_link": true
    },
    "kernelspec": {
      "display_name": "Python 3",
      "name": "python3"
    },
    "language_info": {
      "name": "python"
    }
  },
  "cells": [
    {
      "cell_type": "markdown",
      "metadata": {
        "id": "view-in-github",
        "colab_type": "text"
      },
      "source": [
        "<a href=\"https://colab.research.google.com/github/KelvinLam05/k-means_clustering_for_customer_segmentation/blob/main/k_means_clustering_for_customer_segmentation.ipynb\" target=\"_parent\"><img src=\"https://colab.research.google.com/assets/colab-badge.svg\" alt=\"Open In Colab\"/></a>"
      ]
    },
    {
      "cell_type": "markdown",
      "source": [
        "**Goal of the project** "
      ],
      "metadata": {
        "id": "GoJZHkLKK4bt"
      }
    },
    {
      "cell_type": "markdown",
      "metadata": {
        "id": "F1TEooApq4lO"
      },
      "source": [
        "Based on the given satisfaction and loyalty level of customer, we have to find in which segment they will fall."
      ]
    },
    {
      "cell_type": "markdown",
      "source": [
        "**K-means clustering**"
      ],
      "metadata": {
        "id": "Jg83WUeRDFHv"
      }
    },
    {
      "cell_type": "markdown",
      "source": [
        "K-means is one of the most widely used algorithms for clustering data and falls into the unsupervised learning group of machine learning models. It’s ideal for many forms of customer segmentation."
      ],
      "metadata": {
        "id": "1iWVjQZYBbiJ"
      }
    },
    {
      "cell_type": "markdown",
      "source": [
        "**Assumptions in k-means clustering**"
      ],
      "metadata": {
        "id": "wELfInDyAfEY"
      }
    },
    {
      "cell_type": "markdown",
      "source": [
        "The k means algorithm makes several assumptions about the data that are important to understand. While it often still “works” if we ignore them, we will see far better results if you transform the data to work within its assumptions.\n",
        "\n",
        "* Equal variance: K-means assumes that variables have the same variance. The mean and standard deviation of the values should be similar. If they’re not, you’ll need to scale and standardise the variables.\n",
        "\n",
        "* Normal distribution: K-means expects the distribution of each variable to be normal, not highly skewed. If it’s skewed, you’ll need to transform it first using a log transform, Box Cox, or similar.\n",
        "\n",
        "* Similarly sized spherical clusters: It also expects data to form spherical clusters of roughly similar size. If your data aren’t distributed in this way, you may need a different algorithm."
      ],
      "metadata": {
        "id": "0_J6mXYeAj2A"
      }
    },
    {
      "cell_type": "markdown",
      "source": [
        "**Load the packages**"
      ],
      "metadata": {
        "id": "6RX8bYZthnLC"
      }
    },
    {
      "cell_type": "code",
      "metadata": {
        "id": "7xv1YMC4CCl2"
      },
      "source": [
        "# Importing libraries\n",
        "import pandas as pd\n",
        "import numpy as np\n",
        "import matplotlib.pyplot as plt\n",
        "import seaborn as sns\n",
        "\n",
        "%matplotlib inline"
      ],
      "execution_count": 255,
      "outputs": []
    },
    {
      "cell_type": "markdown",
      "source": [
        "**Load the data**"
      ],
      "metadata": {
        "id": "TyAvhfJDhtfl"
      }
    },
    {
      "cell_type": "code",
      "metadata": {
        "id": "dX1z_7iIGSkr"
      },
      "source": [
        "# Load dataset\n",
        "df = pd.read_csv('/content/market_segmentation.csv')"
      ],
      "execution_count": 256,
      "outputs": []
    },
    {
      "cell_type": "code",
      "source": [
        "# Change the data frame's column names to lower case\n",
        "df.columns = df.columns.str.lower()"
      ],
      "metadata": {
        "id": "lMY0znqzuJOO"
      },
      "execution_count": 257,
      "outputs": []
    },
    {
      "cell_type": "code",
      "metadata": {
        "colab": {
          "base_uri": "https://localhost:8080/",
          "height": 204
        },
        "id": "rMuJ7BoFGC6l",
        "outputId": "d265ea04-ee97-4e45-e6eb-9417eb68b92b"
      },
      "source": [
        "# Examine the data\n",
        "df.head()"
      ],
      "execution_count": 258,
      "outputs": [
        {
          "output_type": "execute_result",
          "data": {
            "text/html": [
              "\n",
              "  <div id=\"df-9bfd3f06-ebac-4248-bced-6af38592ee89\">\n",
              "    <div class=\"colab-df-container\">\n",
              "      <div>\n",
              "<style scoped>\n",
              "    .dataframe tbody tr th:only-of-type {\n",
              "        vertical-align: middle;\n",
              "    }\n",
              "\n",
              "    .dataframe tbody tr th {\n",
              "        vertical-align: top;\n",
              "    }\n",
              "\n",
              "    .dataframe thead th {\n",
              "        text-align: right;\n",
              "    }\n",
              "</style>\n",
              "<table border=\"1\" class=\"dataframe\">\n",
              "  <thead>\n",
              "    <tr style=\"text-align: right;\">\n",
              "      <th></th>\n",
              "      <th>satisfaction</th>\n",
              "      <th>loyalty</th>\n",
              "    </tr>\n",
              "  </thead>\n",
              "  <tbody>\n",
              "    <tr>\n",
              "      <th>0</th>\n",
              "      <td>4</td>\n",
              "      <td>-1.33</td>\n",
              "    </tr>\n",
              "    <tr>\n",
              "      <th>1</th>\n",
              "      <td>6</td>\n",
              "      <td>-0.28</td>\n",
              "    </tr>\n",
              "    <tr>\n",
              "      <th>2</th>\n",
              "      <td>5</td>\n",
              "      <td>-0.99</td>\n",
              "    </tr>\n",
              "    <tr>\n",
              "      <th>3</th>\n",
              "      <td>7</td>\n",
              "      <td>-0.29</td>\n",
              "    </tr>\n",
              "    <tr>\n",
              "      <th>4</th>\n",
              "      <td>4</td>\n",
              "      <td>1.06</td>\n",
              "    </tr>\n",
              "  </tbody>\n",
              "</table>\n",
              "</div>\n",
              "      <button class=\"colab-df-convert\" onclick=\"convertToInteractive('df-9bfd3f06-ebac-4248-bced-6af38592ee89')\"\n",
              "              title=\"Convert this dataframe to an interactive table.\"\n",
              "              style=\"display:none;\">\n",
              "        \n",
              "  <svg xmlns=\"http://www.w3.org/2000/svg\" height=\"24px\"viewBox=\"0 0 24 24\"\n",
              "       width=\"24px\">\n",
              "    <path d=\"M0 0h24v24H0V0z\" fill=\"none\"/>\n",
              "    <path d=\"M18.56 5.44l.94 2.06.94-2.06 2.06-.94-2.06-.94-.94-2.06-.94 2.06-2.06.94zm-11 1L8.5 8.5l.94-2.06 2.06-.94-2.06-.94L8.5 2.5l-.94 2.06-2.06.94zm10 10l.94 2.06.94-2.06 2.06-.94-2.06-.94-.94-2.06-.94 2.06-2.06.94z\"/><path d=\"M17.41 7.96l-1.37-1.37c-.4-.4-.92-.59-1.43-.59-.52 0-1.04.2-1.43.59L10.3 9.45l-7.72 7.72c-.78.78-.78 2.05 0 2.83L4 21.41c.39.39.9.59 1.41.59.51 0 1.02-.2 1.41-.59l7.78-7.78 2.81-2.81c.8-.78.8-2.07 0-2.86zM5.41 20L4 18.59l7.72-7.72 1.47 1.35L5.41 20z\"/>\n",
              "  </svg>\n",
              "      </button>\n",
              "      \n",
              "  <style>\n",
              "    .colab-df-container {\n",
              "      display:flex;\n",
              "      flex-wrap:wrap;\n",
              "      gap: 12px;\n",
              "    }\n",
              "\n",
              "    .colab-df-convert {\n",
              "      background-color: #E8F0FE;\n",
              "      border: none;\n",
              "      border-radius: 50%;\n",
              "      cursor: pointer;\n",
              "      display: none;\n",
              "      fill: #1967D2;\n",
              "      height: 32px;\n",
              "      padding: 0 0 0 0;\n",
              "      width: 32px;\n",
              "    }\n",
              "\n",
              "    .colab-df-convert:hover {\n",
              "      background-color: #E2EBFA;\n",
              "      box-shadow: 0px 1px 2px rgba(60, 64, 67, 0.3), 0px 1px 3px 1px rgba(60, 64, 67, 0.15);\n",
              "      fill: #174EA6;\n",
              "    }\n",
              "\n",
              "    [theme=dark] .colab-df-convert {\n",
              "      background-color: #3B4455;\n",
              "      fill: #D2E3FC;\n",
              "    }\n",
              "\n",
              "    [theme=dark] .colab-df-convert:hover {\n",
              "      background-color: #434B5C;\n",
              "      box-shadow: 0px 1px 3px 1px rgba(0, 0, 0, 0.15);\n",
              "      filter: drop-shadow(0px 1px 2px rgba(0, 0, 0, 0.3));\n",
              "      fill: #FFFFFF;\n",
              "    }\n",
              "  </style>\n",
              "\n",
              "      <script>\n",
              "        const buttonEl =\n",
              "          document.querySelector('#df-9bfd3f06-ebac-4248-bced-6af38592ee89 button.colab-df-convert');\n",
              "        buttonEl.style.display =\n",
              "          google.colab.kernel.accessAllowed ? 'block' : 'none';\n",
              "\n",
              "        async function convertToInteractive(key) {\n",
              "          const element = document.querySelector('#df-9bfd3f06-ebac-4248-bced-6af38592ee89');\n",
              "          const dataTable =\n",
              "            await google.colab.kernel.invokeFunction('convertToInteractive',\n",
              "                                                     [key], {});\n",
              "          if (!dataTable) return;\n",
              "\n",
              "          const docLinkHtml = 'Like what you see? Visit the ' +\n",
              "            '<a target=\"_blank\" href=https://colab.research.google.com/notebooks/data_table.ipynb>data table notebook</a>'\n",
              "            + ' to learn more about interactive tables.';\n",
              "          element.innerHTML = '';\n",
              "          dataTable['output_type'] = 'display_data';\n",
              "          await google.colab.output.renderOutput(dataTable, element);\n",
              "          const docLink = document.createElement('div');\n",
              "          docLink.innerHTML = docLinkHtml;\n",
              "          element.appendChild(docLink);\n",
              "        }\n",
              "      </script>\n",
              "    </div>\n",
              "  </div>\n",
              "  "
            ],
            "text/plain": [
              "   satisfaction  loyalty\n",
              "0             4    -1.33\n",
              "1             6    -0.28\n",
              "2             5    -0.99\n",
              "3             7    -0.29\n",
              "4             4     1.06"
            ]
          },
          "metadata": {},
          "execution_count": 258
        }
      ]
    },
    {
      "cell_type": "code",
      "metadata": {
        "colab": {
          "base_uri": "https://localhost:8080/"
        },
        "id": "uNHuAqMTGuA1",
        "outputId": "0a308a02-2264-442f-f2c3-ea76fb326f48"
      },
      "source": [
        "# Overview of all variables, their datatypes\n",
        "df.info()"
      ],
      "execution_count": 259,
      "outputs": [
        {
          "output_type": "stream",
          "name": "stdout",
          "text": [
            "<class 'pandas.core.frame.DataFrame'>\n",
            "RangeIndex: 30 entries, 0 to 29\n",
            "Data columns (total 2 columns):\n",
            " #   Column        Non-Null Count  Dtype  \n",
            "---  ------        --------------  -----  \n",
            " 0   satisfaction  30 non-null     int64  \n",
            " 1   loyalty       30 non-null     float64\n",
            "dtypes: float64(1), int64(1)\n",
            "memory usage: 608.0 bytes\n"
          ]
        }
      ]
    },
    {
      "cell_type": "markdown",
      "source": [
        "**Check for missing values**"
      ],
      "metadata": {
        "id": "-az1PEFd6-Tx"
      }
    },
    {
      "cell_type": "markdown",
      "source": [
        "df.isnull( ).sum( ) shows us that we don’t have any null values."
      ],
      "metadata": {
        "id": "sh5YgyPL7Fn0"
      }
    },
    {
      "cell_type": "code",
      "source": [
        "df.isnull().sum()"
      ],
      "metadata": {
        "colab": {
          "base_uri": "https://localhost:8080/"
        },
        "id": "O3InRnRX5-9N",
        "outputId": "e01de012-fa9e-4fd1-c4d7-4844778bda5b"
      },
      "execution_count": 260,
      "outputs": [
        {
          "output_type": "execute_result",
          "data": {
            "text/plain": [
              "satisfaction    0\n",
              "loyalty         0\n",
              "dtype: int64"
            ]
          },
          "metadata": {},
          "execution_count": 260
        }
      ]
    },
    {
      "cell_type": "markdown",
      "source": [
        "**Examine the data**"
      ],
      "metadata": {
        "id": "_e4as2W0ih7Z"
      }
    },
    {
      "cell_type": "code",
      "source": [
        "# Set a grey background\n",
        "sns.set(style = 'darkgrid')\n",
        "\n",
        "fig, axs = plt.subplots(1, 2, figsize = (12, 6))\n",
        "\n",
        "sns.histplot(data = df, x = 'satisfaction', kde = True, color = 'skyblue', ax = axs[0])\n",
        "sns.histplot(data = df, x = 'loyalty', kde = True, color = 'olive', ax = axs[1])\n",
        "\n",
        "plt.show()"
      ],
      "metadata": {
        "id": "F9ajLyTOTItD",
        "outputId": "b01ad61d-93f1-4db7-8acf-50551ead85f3",
        "colab": {
          "base_uri": "https://localhost:8080/",
          "height": 394
        }
      },
      "execution_count": 261,
      "outputs": [
        {
          "output_type": "display_data",
          "data": {
            "image/png": "[encoded data removed]",
            "text/plain": [
              "<Figure size 864x432 with 2 Axes>"
            ]
          },
          "metadata": {}
        }
      ]
    },
    {
      "cell_type": "markdown",
      "source": [
        "**Skewness**"
      ],
      "metadata": {
        "id": "GAkcZ3jE3IkO"
      }
    },
    {
      "cell_type": "markdown",
      "source": [
        "In statistics, skewness is a measure of the asymmetry of the probability distribution of a random variable about its mean. In other words, skewness tells us the amount and direction of skew (departure from horizontal symmetry). The skewness value can be positive or negative, or even undefined. If skewness is 0, the data are perfectly symmetrical, although it is quite unlikely for real-world data. As a general rule of thumb:\n",
        "\n",
        "* If skewness is less than -1 or greater than 1, the distribution is highly skewed.\n",
        "\n",
        "* If skewness is between -1 and -0.5 or between 0.5 and 1, the distribution is moderately skewed.\n",
        "\n",
        "* If skewness is between -0.5 and 0.5, the distribution is approximately symmetric.\n"
      ],
      "metadata": {
        "id": "5Bhho4kC2mvg"
      }
    },
    {
      "cell_type": "code",
      "source": [
        "df.skew()"
      ],
      "metadata": {
        "colab": {
          "base_uri": "https://localhost:8080/"
        },
        "id": "vNfBqC0bw7jW",
        "outputId": "ce578d92-274a-439d-b274-7434168e25df"
      },
      "execution_count": 262,
      "outputs": [
        {
          "output_type": "execute_result",
          "data": {
            "text/plain": [
              "satisfaction   -0.285179\n",
              "loyalty        -0.277033\n",
              "dtype: float64"
            ]
          },
          "metadata": {},
          "execution_count": 262
        }
      ]
    },
    {
      "cell_type": "markdown",
      "source": [
        "We can see that satisfaction and loyalty are normally distributed.\n",
        "\n"
      ],
      "metadata": {
        "id": "6XnQxwdviJ0Z"
      }
    },
    {
      "cell_type": "markdown",
      "metadata": {
        "id": "sNPyO9YIrrZj"
      },
      "source": [
        "**Scale the data**"
      ]
    },
    {
      "cell_type": "markdown",
      "source": [
        "To ensure the variables have a similar mean and standard deviation we can use the StandardScaler from scikit-learn."
      ],
      "metadata": {
        "id": "S1f0HyG5-j9g"
      }
    },
    {
      "cell_type": "code",
      "source": [
        "from sklearn.preprocessing import StandardScaler"
      ],
      "metadata": {
        "id": "5rLzucTY-YPE"
      },
      "execution_count": 263,
      "outputs": []
    },
    {
      "cell_type": "code",
      "source": [
        "# Standarize features\n",
        "scaler = StandardScaler()\n",
        "scaler.fit(df)\n",
        "df_norm = scaler.transform(df)"
      ],
      "metadata": {
        "id": "cfvUlwRM9pIG"
      },
      "execution_count": 264,
      "outputs": []
    },
    {
      "cell_type": "markdown",
      "source": [
        "**Create an elbow plot**"
      ],
      "metadata": {
        "id": "tcU9zyM7Cy9b"
      }
    },
    {
      "cell_type": "markdown",
      "source": [
        "When using the k means clustering algorithm, we need to specifically define k, or the number of clusters we want the algorithm to create. Rather than selecting an arbitrary value, such as the number of clusters we want for practical purposes, there’s a science to the selection of the optimum k.\n",
        "\n",
        "The optimum number of clusters is typically identified visually using a data visualisation known as an elbow plot. The elbow plot is generated by fitting the k means model on a range of different k values (typically from 1 to 10 or 20, depending on our data) and then plotting the SSE for each cluster.\n",
        "\n",
        "The elbow or knee represents the point at which a higher k, or additional clusters, stop adding useful information and make the clusters harder to separate. "
      ],
      "metadata": {
        "id": "7IJ8ParECbwQ"
      }
    },
    {
      "cell_type": "code",
      "source": [
        "from sklearn.cluster import KMeans"
      ],
      "metadata": {
        "id": "kNp6PmL9D8WP"
      },
      "execution_count": 265,
      "outputs": []
    },
    {
      "cell_type": "code",
      "source": [
        "# A list holds the SSE values for each k\n",
        "sse = []\n",
        "\n",
        "K = range(1, 10)\n",
        "for k in K:\n",
        "    km = KMeans(n_clusters = k)\n",
        "    km = km.fit(df_norm)\n",
        "    sse.append(km.inertia_)"
      ],
      "metadata": {
        "id": "Hqp6pZNkFnMw"
      },
      "execution_count": 266,
      "outputs": []
    },
    {
      "cell_type": "markdown",
      "source": [
        "The minor downside of the elbow plot is that on some datasets it can be tricky to spot the exact inflection point representing the knee or elbow. On the plot below, it appears to lie between 2 and 4, so we could try each k and see which one works best for our business needs."
      ],
      "metadata": {
        "id": "yaZFZjyKqZaY"
      }
    },
    {
      "cell_type": "code",
      "source": [
        "plt.figure(figsize = (12, 6))\n",
        "plt.plot(K, sse, 'bx-')\n",
        "plt.title('Elbow plot for K selection')\n",
        "plt.xlabel('k')\n",
        "plt.ylabel('SSE')\n",
        "plt.show()"
      ],
      "metadata": {
        "colab": {
          "base_uri": "https://localhost:8080/",
          "height": 410
        },
        "id": "Q9aLdQAiH7WZ",
        "outputId": "e2a87f26-9f85-4c92-a5ad-01a301a8f7e0"
      },
      "execution_count": 267,
      "outputs": [
        {
          "output_type": "display_data",
          "data": {
            "image/png": "[encoded data removed]",
            "text/plain": [
              "<Figure size 864x432 with 1 Axes>"
            ]
          },
          "metadata": {}
        }
      ]
    },
    {
      "cell_type": "markdown",
      "source": [
        "The other approach, which resolves the difficulties in manually identifying the inflection point on the elbow plot, is to use a computational approach to finding the optimum k. One of the easiest you can use is the Kneedle algorithm, which is implemented in Python in a package called kneed."
      ],
      "metadata": {
        "id": "1hc1Ffc4rHW0"
      }
    },
    {
      "cell_type": "code",
      "source": [
        "from kneed import KneeLocator"
      ],
      "metadata": {
        "id": "55JVbLFkpDy-"
      },
      "execution_count": 268,
      "outputs": []
    },
    {
      "cell_type": "code",
      "source": [
        "kl = KneeLocator(range(1, 10), sse, curve = 'convex', direction = 'decreasing')"
      ],
      "metadata": {
        "id": "Z0V6N3_BoJvP"
      },
      "execution_count": 269,
      "outputs": []
    },
    {
      "cell_type": "markdown",
      "source": [
        "Using the Kneedle algorithm on our df_norm dataframe returns a value of 4, which is what we should use as our k value to get the optimum results."
      ],
      "metadata": {
        "id": "CeU-a82nrcKQ"
      }
    },
    {
      "cell_type": "code",
      "source": [
        "kl.elbow"
      ],
      "metadata": {
        "colab": {
          "base_uri": "https://localhost:8080/"
        },
        "id": "YDJiKW8zoSka",
        "outputId": "482b9f66-a925-4303-de50-5f32cc083362"
      },
      "execution_count": 270,
      "outputs": [
        {
          "output_type": "execute_result",
          "data": {
            "text/plain": [
              "4"
            ]
          },
          "metadata": {},
          "execution_count": 270
        }
      ]
    },
    {
      "cell_type": "markdown",
      "source": [
        "**Apply k-means clustering**"
      ],
      "metadata": {
        "id": "cSLlpXxILGoR"
      }
    },
    {
      "cell_type": "code",
      "source": [
        "# Create k-mean object\n",
        "kmeans = KMeans(n_clusters = 4, random_state = 42)\n",
        "\n",
        "# Train model\n",
        "kmeans.fit(df_norm)\n",
        "\n",
        "# Predict class\n",
        "df = df.assign(cluster = kmeans.labels_)"
      ],
      "metadata": {
        "id": "oaAN2Qcut9rQ"
      },
      "execution_count": 271,
      "outputs": []
    },
    {
      "cell_type": "markdown",
      "source": [
        "**Examining the customer segments**"
      ],
      "metadata": {
        "id": "oAh9mJWOEzkL"
      }
    },
    {
      "cell_type": "markdown",
      "source": [
        "To examine the clusters generated, we can use a groupby( ) on the newly created cluster column and then use the agg( ) function to calculate summary statistics for each cluster.\n",
        "\n",
        "This gives us four clear clusters. The clusters created are fairly easy to distinguish, but this doesn’t mean that four represents the optimum number of clusters for practical marketing purposes."
      ],
      "metadata": {
        "id": "9IdWVPw0ZsZt"
      }
    },
    {
      "cell_type": "code",
      "source": [
        "df.groupby('cluster').agg(satisfaction = ('satisfaction', 'mean'), loyalty = ('loyalty', 'mean'), cluster_size = ('cluster', 'count'))"
      ],
      "metadata": {
        "colab": {
          "base_uri": "https://localhost:8080/",
          "height": 204
        },
        "id": "1FBICT3WxAI7",
        "outputId": "ea8cca1e-aad9-453f-b55c-9ca51fb50829"
      },
      "execution_count": 272,
      "outputs": [
        {
          "output_type": "execute_result",
          "data": {
            "text/html": [
              "\n",
              "  <div id=\"df-52039365-3581-4286-ab95-50f49a31edf7\">\n",
              "    <div class=\"colab-df-container\">\n",
              "      <div>\n",
              "<style scoped>\n",
              "    .dataframe tbody tr th:only-of-type {\n",
              "        vertical-align: middle;\n",
              "    }\n",
              "\n",
              "    .dataframe tbody tr th {\n",
              "        vertical-align: top;\n",
              "    }\n",
              "\n",
              "    .dataframe thead th {\n",
              "        text-align: right;\n",
              "    }\n",
              "</style>\n",
              "<table border=\"1\" class=\"dataframe\">\n",
              "  <thead>\n",
              "    <tr style=\"text-align: right;\">\n",
              "      <th></th>\n",
              "      <th>satisfaction</th>\n",
              "      <th>loyalty</th>\n",
              "      <th>cluster_size</th>\n",
              "    </tr>\n",
              "    <tr>\n",
              "      <th>cluster</th>\n",
              "      <th></th>\n",
              "      <th></th>\n",
              "      <th></th>\n",
              "    </tr>\n",
              "  </thead>\n",
              "  <tbody>\n",
              "    <tr>\n",
              "      <th>0</th>\n",
              "      <td>3.428571</td>\n",
              "      <td>-1.382857</td>\n",
              "      <td>7</td>\n",
              "    </tr>\n",
              "    <tr>\n",
              "      <th>1</th>\n",
              "      <td>4.333333</td>\n",
              "      <td>0.820000</td>\n",
              "      <td>6</td>\n",
              "    </tr>\n",
              "    <tr>\n",
              "      <th>2</th>\n",
              "      <td>8.111111</td>\n",
              "      <td>-0.358889</td>\n",
              "      <td>9</td>\n",
              "    </tr>\n",
              "    <tr>\n",
              "      <th>3</th>\n",
              "      <td>8.625000</td>\n",
              "      <td>1.002500</td>\n",
              "      <td>8</td>\n",
              "    </tr>\n",
              "  </tbody>\n",
              "</table>\n",
              "</div>\n",
              "      <button class=\"colab-df-convert\" onclick=\"convertToInteractive('df-52039365-3581-4286-ab95-50f49a31edf7')\"\n",
              "              title=\"Convert this dataframe to an interactive table.\"\n",
              "              style=\"display:none;\">\n",
              "        \n",
              "  <svg xmlns=\"http://www.w3.org/2000/svg\" height=\"24px\"viewBox=\"0 0 24 24\"\n",
              "       width=\"24px\">\n",
              "    <path d=\"M0 0h24v24H0V0z\" fill=\"none\"/>\n",
              "    <path d=\"M18.56 5.44l.94 2.06.94-2.06 2.06-.94-2.06-.94-.94-2.06-.94 2.06-2.06.94zm-11 1L8.5 8.5l.94-2.06 2.06-.94-2.06-.94L8.5 2.5l-.94 2.06-2.06.94zm10 10l.94 2.06.94-2.06 2.06-.94-2.06-.94-.94-2.06-.94 2.06-2.06.94z\"/><path d=\"M17.41 7.96l-1.37-1.37c-.4-.4-.92-.59-1.43-.59-.52 0-1.04.2-1.43.59L10.3 9.45l-7.72 7.72c-.78.78-.78 2.05 0 2.83L4 21.41c.39.39.9.59 1.41.59.51 0 1.02-.2 1.41-.59l7.78-7.78 2.81-2.81c.8-.78.8-2.07 0-2.86zM5.41 20L4 18.59l7.72-7.72 1.47 1.35L5.41 20z\"/>\n",
              "  </svg>\n",
              "      </button>\n",
              "      \n",
              "  <style>\n",
              "    .colab-df-container {\n",
              "      display:flex;\n",
              "      flex-wrap:wrap;\n",
              "      gap: 12px;\n",
              "    }\n",
              "\n",
              "    .colab-df-convert {\n",
              "      background-color: #E8F0FE;\n",
              "      border: none;\n",
              "      border-radius: 50%;\n",
              "      cursor: pointer;\n",
              "      display: none;\n",
              "      fill: #1967D2;\n",
              "      height: 32px;\n",
              "      padding: 0 0 0 0;\n",
              "      width: 32px;\n",
              "    }\n",
              "\n",
              "    .colab-df-convert:hover {\n",
              "      background-color: #E2EBFA;\n",
              "      box-shadow: 0px 1px 2px rgba(60, 64, 67, 0.3), 0px 1px 3px 1px rgba(60, 64, 67, 0.15);\n",
              "      fill: #174EA6;\n",
              "    }\n",
              "\n",
              "    [theme=dark] .colab-df-convert {\n",
              "      background-color: #3B4455;\n",
              "      fill: #D2E3FC;\n",
              "    }\n",
              "\n",
              "    [theme=dark] .colab-df-convert:hover {\n",
              "      background-color: #434B5C;\n",
              "      box-shadow: 0px 1px 3px 1px rgba(0, 0, 0, 0.15);\n",
              "      filter: drop-shadow(0px 1px 2px rgba(0, 0, 0, 0.3));\n",
              "      fill: #FFFFFF;\n",
              "    }\n",
              "  </style>\n",
              "\n",
              "      <script>\n",
              "        const buttonEl =\n",
              "          document.querySelector('#df-52039365-3581-4286-ab95-50f49a31edf7 button.colab-df-convert');\n",
              "        buttonEl.style.display =\n",
              "          google.colab.kernel.accessAllowed ? 'block' : 'none';\n",
              "\n",
              "        async function convertToInteractive(key) {\n",
              "          const element = document.querySelector('#df-52039365-3581-4286-ab95-50f49a31edf7');\n",
              "          const dataTable =\n",
              "            await google.colab.kernel.invokeFunction('convertToInteractive',\n",
              "                                                     [key], {});\n",
              "          if (!dataTable) return;\n",
              "\n",
              "          const docLinkHtml = 'Like what you see? Visit the ' +\n",
              "            '<a target=\"_blank\" href=https://colab.research.google.com/notebooks/data_table.ipynb>data table notebook</a>'\n",
              "            + ' to learn more about interactive tables.';\n",
              "          element.innerHTML = '';\n",
              "          dataTable['output_type'] = 'display_data';\n",
              "          await google.colab.output.renderOutput(dataTable, element);\n",
              "          const docLink = document.createElement('div');\n",
              "          docLink.innerHTML = docLinkHtml;\n",
              "          element.appendChild(docLink);\n",
              "        }\n",
              "      </script>\n",
              "    </div>\n",
              "  </div>\n",
              "  "
            ],
            "text/plain": [
              "         satisfaction   loyalty  cluster_size\n",
              "cluster                                      \n",
              "0            3.428571 -1.382857             7\n",
              "1            4.333333  0.820000             6\n",
              "2            8.111111 -0.358889             9\n",
              "3            8.625000  1.002500             8"
            ]
          },
          "metadata": {},
          "execution_count": 272
        }
      ]
    },
    {
      "cell_type": "markdown",
      "source": [
        "Let's visualize the results by plotting the data colored by these labels."
      ],
      "metadata": {
        "id": "4qkOBWpT03Vr"
      }
    },
    {
      "cell_type": "code",
      "source": [
        "plt.figure(figsize = (12, 6))\n",
        "sns.scatterplot(data = df, x = df['satisfaction'], y = df['loyalty'], hue = df['cluster'], palette = 'cubehelix')\n",
        "plt.title(\"Cluster's profile based on satisfaction and loyalty\")\n",
        "plt.legend()\n",
        "plt.show()"
      ],
      "metadata": {
        "colab": {
          "base_uri": "https://localhost:8080/",
          "height": 410
        },
        "id": "n-fa182Dro1X",
        "outputId": "32179c20-4d9a-4484-ffe8-5e271d2a031f"
      },
      "execution_count": 273,
      "outputs": [
        {
          "output_type": "display_data",
          "data": {
            "image/png": "[encoded data removed]",
            "text/plain": [
              "<Figure size 864x432 with 1 Axes>"
            ]
          },
          "metadata": {}
        }
      ]
    },
    {
      "cell_type": "markdown",
      "source": [
        "As illustrated in the above plot, we can get the following information for each of the segments:\n",
        "\n",
        "**0.** customers with **low** satisfaction and **low** loyalty\n",
        "\n",
        "**1.** customers with **average** satisfaction and **high** loyalty\n",
        "\n",
        "**2.** customers with **high** satisfaction and **low** loyalty\n",
        "\n",
        "**3.** customers with **high** satisfaction and **high** loyalty"
      ],
      "metadata": {
        "id": "a74DOm4gFX1X"
      }
    }
  ]
}
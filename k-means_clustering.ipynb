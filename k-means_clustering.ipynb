{
  "metadata": {
    "kernelspec": {
      "language": "python",
      "display_name": "Python 3",
      "name": "python3"
    },
    "language_info": {
      "name": "python",
      "version": "3.7.12",
      "mimetype": "text/x-python",
      "codemirror_mode": {
        "name": "ipython",
        "version": 3
      },
      "pygments_lexer": "ipython3",
      "nbconvert_exporter": "python",
      "file_extension": ".py"
    },
    "colab": {
      "provenance": [],
      "collapsed_sections": [],
      "include_colab_link": true
    }
  },
  "nbformat_minor": 0,
  "nbformat": 4,
  "cells": [
    {
      "cell_type": "markdown",
      "metadata": {
        "id": "view-in-github",
        "colab_type": "text"
      },
      "source": [
        "<a href=\"https://colab.research.google.com/github/KelvinLam05/k-means_clustering/blob/main/k-means_clustering.ipynb\" target=\"_parent\"><img src=\"https://colab.research.google.com/assets/colab-badge.svg\" alt=\"Open In Colab\"/></a>"
      ]
    },
    {
      "cell_type": "markdown",
      "source": [
        "**Goal of the project** "
      ],
      "metadata": {
        "id": "GoJZHkLKK4bt"
      }
    },
    {
      "cell_type": "markdown",
      "source": [
        "In this project, we will try to analyze the types of customers in the market according to their characteristics. The dataset consists of 30 samples and their characteristics are satisfaction and loyalty respectively. To put it simply, we will cluster customers based on their satisfaction and loyalty with the customer data we have."
      ],
      "metadata": {
        "id": "F1TEooApq4lO"
      }
    },
    {
      "cell_type": "markdown",
      "source": [
        "**K-means clustering**"
      ],
      "metadata": {
        "id": "Jg83WUeRDFHv"
      }
    },
    {
      "cell_type": "markdown",
      "source": [
        "K-means is one of the most widely used algorithms for clustering data and falls into the unsupervised learning group of machine learning models. It’s ideal for many forms of customer segmentation."
      ],
      "metadata": {
        "id": "1iWVjQZYBbiJ"
      }
    },
    {
      "cell_type": "markdown",
      "source": [
        "**Assumptions in k-means clustering**"
      ],
      "metadata": {
        "id": "wELfInDyAfEY"
      }
    },
    {
      "cell_type": "markdown",
      "source": [
        "The k means algorithm makes several assumptions about the data that are important to understand.\n",
        "\n",
        "* The mean and standard deviation of the values should be similar.\n",
        "\n",
        "* K-means expects the distribution of each variable to be normal, not highly skewed.\n",
        "\n",
        "* It also expects data to form spherical clusters of roughly similar size."
      ],
      "metadata": {
        "id": "0_J6mXYeAj2A"
      }
    },
    {
      "cell_type": "markdown",
      "source": [
        "**Load the packages**"
      ],
      "metadata": {
        "id": "6RX8bYZthnLC"
      }
    },
    {
      "cell_type": "code",
      "source": [
        "# Importing libraries\n",
        "import pandas as pd\n",
        "import numpy as np"
      ],
      "metadata": {
        "id": "7xv1YMC4CCl2",
        "execution": {
          "iopub.status.busy": "2022-09-02T11:15:58.071164Z",
          "iopub.execute_input": "2022-09-02T11:15:58.071685Z",
          "iopub.status.idle": "2022-09-02T11:15:58.083012Z",
          "shell.execute_reply.started": "2022-09-02T11:15:58.071650Z",
          "shell.execute_reply": "2022-09-02T11:15:58.081199Z"
        },
        "trusted": true
      },
      "execution_count": 1,
      "outputs": []
    },
    {
      "cell_type": "markdown",
      "source": [
        "**Load the data**"
      ],
      "metadata": {
        "id": "TyAvhfJDhtfl"
      }
    },
    {
      "cell_type": "code",
      "source": [
        "# Load dataset\n",
        "df = pd.read_csv('/content/market_segmentation.csv')"
      ],
      "metadata": {
        "id": "dX1z_7iIGSkr",
        "execution": {
          "iopub.status.busy": "2022-09-02T11:15:58.103700Z",
          "iopub.execute_input": "2022-09-02T11:15:58.105118Z",
          "iopub.status.idle": "2022-09-02T11:15:58.116387Z",
          "shell.execute_reply.started": "2022-09-02T11:15:58.105052Z",
          "shell.execute_reply": "2022-09-02T11:15:58.114852Z"
        },
        "trusted": true
      },
      "execution_count": 2,
      "outputs": []
    },
    {
      "cell_type": "code",
      "source": [
        "# Change the data frame's column names to lower case\n",
        "df.columns = df.columns.str.lower()"
      ],
      "metadata": {
        "id": "lMY0znqzuJOO",
        "execution": {
          "iopub.status.busy": "2022-09-02T11:15:58.149684Z",
          "iopub.execute_input": "2022-09-02T11:15:58.150714Z",
          "iopub.status.idle": "2022-09-02T11:15:58.157070Z",
          "shell.execute_reply.started": "2022-09-02T11:15:58.150651Z",
          "shell.execute_reply": "2022-09-02T11:15:58.155843Z"
        },
        "trusted": true
      },
      "execution_count": 3,
      "outputs": []
    },
    {
      "cell_type": "code",
      "source": [
        "# Examine the data\n",
        "df.head()"
      ],
      "metadata": {
        "id": "rMuJ7BoFGC6l",
        "outputId": "088cc4d1-545d-4bc9-f954-bc9670833390",
        "execution": {
          "iopub.status.busy": "2022-09-02T11:15:58.165699Z",
          "iopub.execute_input": "2022-09-02T11:15:58.167135Z",
          "iopub.status.idle": "2022-09-02T11:15:58.182903Z",
          "shell.execute_reply.started": "2022-09-02T11:15:58.167080Z",
          "shell.execute_reply": "2022-09-02T11:15:58.180731Z"
        },
        "trusted": true,
        "colab": {
          "base_uri": "https://localhost:8080/",
          "height": 204
        }
      },
      "execution_count": 4,
      "outputs": [
        {
          "output_type": "execute_result",
          "data": {
            "text/plain": [
              "   satisfaction  loyalty\n",
              "0             4    -1.33\n",
              "1             6    -0.28\n",
              "2             5    -0.99\n",
              "3             7    -0.29\n",
              "4             4     1.06"
            ],
            "text/html": [
              "\n",
              "  <div id=\"df-10ab59a2-5a00-4c9d-baa4-7d3df562c32e\">\n",
              "    <div class=\"colab-df-container\">\n",
              "      <div>\n",
              "<style scoped>\n",
              "    .dataframe tbody tr th:only-of-type {\n",
              "        vertical-align: middle;\n",
              "    }\n",
              "\n",
              "    .dataframe tbody tr th {\n",
              "        vertical-align: top;\n",
              "    }\n",
              "\n",
              "    .dataframe thead th {\n",
              "        text-align: right;\n",
              "    }\n",
              "</style>\n",
              "<table border=\"1\" class=\"dataframe\">\n",
              "  <thead>\n",
              "    <tr style=\"text-align: right;\">\n",
              "      <th></th>\n",
              "      <th>satisfaction</th>\n",
              "      <th>loyalty</th>\n",
              "    </tr>\n",
              "  </thead>\n",
              "  <tbody>\n",
              "    <tr>\n",
              "      <th>0</th>\n",
              "      <td>4</td>\n",
              "      <td>-1.33</td>\n",
              "    </tr>\n",
              "    <tr>\n",
              "      <th>1</th>\n",
              "      <td>6</td>\n",
              "      <td>-0.28</td>\n",
              "    </tr>\n",
              "    <tr>\n",
              "      <th>2</th>\n",
              "      <td>5</td>\n",
              "      <td>-0.99</td>\n",
              "    </tr>\n",
              "    <tr>\n",
              "      <th>3</th>\n",
              "      <td>7</td>\n",
              "      <td>-0.29</td>\n",
              "    </tr>\n",
              "    <tr>\n",
              "      <th>4</th>\n",
              "      <td>4</td>\n",
              "      <td>1.06</td>\n",
              "    </tr>\n",
              "  </tbody>\n",
              "</table>\n",
              "</div>\n",
              "      <button class=\"colab-df-convert\" onclick=\"convertToInteractive('df-10ab59a2-5a00-4c9d-baa4-7d3df562c32e')\"\n",
              "              title=\"Convert this dataframe to an interactive table.\"\n",
              "              style=\"display:none;\">\n",
              "        \n",
              "  <svg xmlns=\"http://www.w3.org/2000/svg\" height=\"24px\"viewBox=\"0 0 24 24\"\n",
              "       width=\"24px\">\n",
              "    <path d=\"M0 0h24v24H0V0z\" fill=\"none\"/>\n",
              "    <path d=\"M18.56 5.44l.94 2.06.94-2.06 2.06-.94-2.06-.94-.94-2.06-.94 2.06-2.06.94zm-11 1L8.5 8.5l.94-2.06 2.06-.94-2.06-.94L8.5 2.5l-.94 2.06-2.06.94zm10 10l.94 2.06.94-2.06 2.06-.94-2.06-.94-.94-2.06-.94 2.06-2.06.94z\"/><path d=\"M17.41 7.96l-1.37-1.37c-.4-.4-.92-.59-1.43-.59-.52 0-1.04.2-1.43.59L10.3 9.45l-7.72 7.72c-.78.78-.78 2.05 0 2.83L4 21.41c.39.39.9.59 1.41.59.51 0 1.02-.2 1.41-.59l7.78-7.78 2.81-2.81c.8-.78.8-2.07 0-2.86zM5.41 20L4 18.59l7.72-7.72 1.47 1.35L5.41 20z\"/>\n",
              "  </svg>\n",
              "      </button>\n",
              "      \n",
              "  <style>\n",
              "    .colab-df-container {\n",
              "      display:flex;\n",
              "      flex-wrap:wrap;\n",
              "      gap: 12px;\n",
              "    }\n",
              "\n",
              "    .colab-df-convert {\n",
              "      background-color: #E8F0FE;\n",
              "      border: none;\n",
              "      border-radius: 50%;\n",
              "      cursor: pointer;\n",
              "      display: none;\n",
              "      fill: #1967D2;\n",
              "      height: 32px;\n",
              "      padding: 0 0 0 0;\n",
              "      width: 32px;\n",
              "    }\n",
              "\n",
              "    .colab-df-convert:hover {\n",
              "      background-color: #E2EBFA;\n",
              "      box-shadow: 0px 1px 2px rgba(60, 64, 67, 0.3), 0px 1px 3px 1px rgba(60, 64, 67, 0.15);\n",
              "      fill: #174EA6;\n",
              "    }\n",
              "\n",
              "    [theme=dark] .colab-df-convert {\n",
              "      background-color: #3B4455;\n",
              "      fill: #D2E3FC;\n",
              "    }\n",
              "\n",
              "    [theme=dark] .colab-df-convert:hover {\n",
              "      background-color: #434B5C;\n",
              "      box-shadow: 0px 1px 3px 1px rgba(0, 0, 0, 0.15);\n",
              "      filter: drop-shadow(0px 1px 2px rgba(0, 0, 0, 0.3));\n",
              "      fill: #FFFFFF;\n",
              "    }\n",
              "  </style>\n",
              "\n",
              "      <script>\n",
              "        const buttonEl =\n",
              "          document.querySelector('#df-10ab59a2-5a00-4c9d-baa4-7d3df562c32e button.colab-df-convert');\n",
              "        buttonEl.style.display =\n",
              "          google.colab.kernel.accessAllowed ? 'block' : 'none';\n",
              "\n",
              "        async function convertToInteractive(key) {\n",
              "          const element = document.querySelector('#df-10ab59a2-5a00-4c9d-baa4-7d3df562c32e');\n",
              "          const dataTable =\n",
              "            await google.colab.kernel.invokeFunction('convertToInteractive',\n",
              "                                                     [key], {});\n",
              "          if (!dataTable) return;\n",
              "\n",
              "          const docLinkHtml = 'Like what you see? Visit the ' +\n",
              "            '<a target=\"_blank\" href=https://colab.research.google.com/notebooks/data_table.ipynb>data table notebook</a>'\n",
              "            + ' to learn more about interactive tables.';\n",
              "          element.innerHTML = '';\n",
              "          dataTable['output_type'] = 'display_data';\n",
              "          await google.colab.output.renderOutput(dataTable, element);\n",
              "          const docLink = document.createElement('div');\n",
              "          docLink.innerHTML = docLinkHtml;\n",
              "          element.appendChild(docLink);\n",
              "        }\n",
              "      </script>\n",
              "    </div>\n",
              "  </div>\n",
              "  "
            ]
          },
          "metadata": {},
          "execution_count": 4
        }
      ]
    },
    {
      "cell_type": "code",
      "source": [
        "# Overview of all variables, their datatypes\n",
        "df.info()"
      ],
      "metadata": {
        "id": "uNHuAqMTGuA1",
        "outputId": "2a18c16a-794b-41a2-9a7a-24c137c0d7d7",
        "execution": {
          "iopub.status.busy": "2022-09-02T11:15:58.186008Z",
          "iopub.execute_input": "2022-09-02T11:15:58.186727Z",
          "iopub.status.idle": "2022-09-02T11:15:58.205479Z",
          "shell.execute_reply.started": "2022-09-02T11:15:58.186678Z",
          "shell.execute_reply": "2022-09-02T11:15:58.203691Z"
        },
        "trusted": true,
        "colab": {
          "base_uri": "https://localhost:8080/"
        }
      },
      "execution_count": 5,
      "outputs": [
        {
          "output_type": "stream",
          "name": "stdout",
          "text": [
            "<class 'pandas.core.frame.DataFrame'>\n",
            "RangeIndex: 30 entries, 0 to 29\n",
            "Data columns (total 2 columns):\n",
            " #   Column        Non-Null Count  Dtype  \n",
            "---  ------        --------------  -----  \n",
            " 0   satisfaction  30 non-null     int64  \n",
            " 1   loyalty       30 non-null     float64\n",
            "dtypes: float64(1), int64(1)\n",
            "memory usage: 608.0 bytes\n"
          ]
        }
      ]
    },
    {
      "cell_type": "markdown",
      "source": [
        "**Check for missing values**"
      ],
      "metadata": {
        "id": "-az1PEFd6-Tx"
      }
    },
    {
      "cell_type": "markdown",
      "source": [
        "df.isnull( ).sum( ) shows us that we don’t have any null values."
      ],
      "metadata": {
        "id": "sh5YgyPL7Fn0"
      }
    },
    {
      "cell_type": "code",
      "source": [
        "df.isnull().sum()"
      ],
      "metadata": {
        "id": "O3InRnRX5-9N",
        "outputId": "5042a5d5-f017-40e7-cb8e-94ad2084abac",
        "execution": {
          "iopub.status.busy": "2022-09-02T11:15:58.207238Z",
          "iopub.execute_input": "2022-09-02T11:15:58.207742Z",
          "iopub.status.idle": "2022-09-02T11:15:58.219034Z",
          "shell.execute_reply.started": "2022-09-02T11:15:58.207701Z",
          "shell.execute_reply": "2022-09-02T11:15:58.217674Z"
        },
        "trusted": true,
        "colab": {
          "base_uri": "https://localhost:8080/"
        }
      },
      "execution_count": 6,
      "outputs": [
        {
          "output_type": "execute_result",
          "data": {
            "text/plain": [
              "satisfaction    0\n",
              "loyalty         0\n",
              "dtype: int64"
            ]
          },
          "metadata": {},
          "execution_count": 6
        }
      ]
    },
    {
      "cell_type": "markdown",
      "source": [
        "**Normality**"
      ],
      "metadata": {
        "id": "GAkcZ3jE3IkO"
      }
    },
    {
      "cell_type": "markdown",
      "source": [
        "* A skewness value greater than 1 or less than -1 indicates a highly skewed distribution. \n",
        "* A value between 0.5 and 1 or -0.5 and -1 is moderately skewed. \n",
        "* A value between -0.5 and 0.5 indicates that the distribution is fairly symmetrical."
      ],
      "metadata": {
        "id": "6wbXnXasG6ML"
      }
    },
    {
      "cell_type": "code",
      "source": [
        "skewness = df.skew().sort_values(ascending = False)"
      ],
      "metadata": {
        "execution": {
          "iopub.status.busy": "2022-09-02T11:15:58.221931Z",
          "iopub.execute_input": "2022-09-02T11:15:58.222315Z",
          "iopub.status.idle": "2022-09-02T11:15:58.229725Z",
          "shell.execute_reply.started": "2022-09-02T11:15:58.222272Z",
          "shell.execute_reply": "2022-09-02T11:15:58.228746Z"
        },
        "trusted": true,
        "id": "EfzMH1V6G6MM"
      },
      "execution_count": 7,
      "outputs": []
    },
    {
      "cell_type": "code",
      "source": [
        "pd.DataFrame({'skewness': skewness})"
      ],
      "metadata": {
        "execution": {
          "iopub.status.busy": "2022-09-02T11:15:58.230997Z",
          "iopub.execute_input": "2022-09-02T11:15:58.231322Z",
          "iopub.status.idle": "2022-09-02T11:15:58.248460Z",
          "shell.execute_reply.started": "2022-09-02T11:15:58.231292Z",
          "shell.execute_reply": "2022-09-02T11:15:58.247061Z"
        },
        "trusted": true,
        "colab": {
          "base_uri": "https://localhost:8080/",
          "height": 111
        },
        "id": "goFKjmqvG6MM",
        "outputId": "bb1cc6d6-986c-46c1-c4c4-37ca25764689"
      },
      "execution_count": 8,
      "outputs": [
        {
          "output_type": "execute_result",
          "data": {
            "text/plain": [
              "              skewness\n",
              "loyalty      -0.277033\n",
              "satisfaction -0.285179"
            ],
            "text/html": [
              "\n",
              "  <div id=\"df-5d21d558-6b25-4b6b-9dd9-0c1908d0f7c6\">\n",
              "    <div class=\"colab-df-container\">\n",
              "      <div>\n",
              "<style scoped>\n",
              "    .dataframe tbody tr th:only-of-type {\n",
              "        vertical-align: middle;\n",
              "    }\n",
              "\n",
              "    .dataframe tbody tr th {\n",
              "        vertical-align: top;\n",
              "    }\n",
              "\n",
              "    .dataframe thead th {\n",
              "        text-align: right;\n",
              "    }\n",
              "</style>\n",
              "<table border=\"1\" class=\"dataframe\">\n",
              "  <thead>\n",
              "    <tr style=\"text-align: right;\">\n",
              "      <th></th>\n",
              "      <th>skewness</th>\n",
              "    </tr>\n",
              "  </thead>\n",
              "  <tbody>\n",
              "    <tr>\n",
              "      <th>loyalty</th>\n",
              "      <td>-0.277033</td>\n",
              "    </tr>\n",
              "    <tr>\n",
              "      <th>satisfaction</th>\n",
              "      <td>-0.285179</td>\n",
              "    </tr>\n",
              "  </tbody>\n",
              "</table>\n",
              "</div>\n",
              "      <button class=\"colab-df-convert\" onclick=\"convertToInteractive('df-5d21d558-6b25-4b6b-9dd9-0c1908d0f7c6')\"\n",
              "              title=\"Convert this dataframe to an interactive table.\"\n",
              "              style=\"display:none;\">\n",
              "        \n",
              "  <svg xmlns=\"http://www.w3.org/2000/svg\" height=\"24px\"viewBox=\"0 0 24 24\"\n",
              "       width=\"24px\">\n",
              "    <path d=\"M0 0h24v24H0V0z\" fill=\"none\"/>\n",
              "    <path d=\"M18.56 5.44l.94 2.06.94-2.06 2.06-.94-2.06-.94-.94-2.06-.94 2.06-2.06.94zm-11 1L8.5 8.5l.94-2.06 2.06-.94-2.06-.94L8.5 2.5l-.94 2.06-2.06.94zm10 10l.94 2.06.94-2.06 2.06-.94-2.06-.94-.94-2.06-.94 2.06-2.06.94z\"/><path d=\"M17.41 7.96l-1.37-1.37c-.4-.4-.92-.59-1.43-.59-.52 0-1.04.2-1.43.59L10.3 9.45l-7.72 7.72c-.78.78-.78 2.05 0 2.83L4 21.41c.39.39.9.59 1.41.59.51 0 1.02-.2 1.41-.59l7.78-7.78 2.81-2.81c.8-.78.8-2.07 0-2.86zM5.41 20L4 18.59l7.72-7.72 1.47 1.35L5.41 20z\"/>\n",
              "  </svg>\n",
              "      </button>\n",
              "      \n",
              "  <style>\n",
              "    .colab-df-container {\n",
              "      display:flex;\n",
              "      flex-wrap:wrap;\n",
              "      gap: 12px;\n",
              "    }\n",
              "\n",
              "    .colab-df-convert {\n",
              "      background-color: #E8F0FE;\n",
              "      border: none;\n",
              "      border-radius: 50%;\n",
              "      cursor: pointer;\n",
              "      display: none;\n",
              "      fill: #1967D2;\n",
              "      height: 32px;\n",
              "      padding: 0 0 0 0;\n",
              "      width: 32px;\n",
              "    }\n",
              "\n",
              "    .colab-df-convert:hover {\n",
              "      background-color: #E2EBFA;\n",
              "      box-shadow: 0px 1px 2px rgba(60, 64, 67, 0.3), 0px 1px 3px 1px rgba(60, 64, 67, 0.15);\n",
              "      fill: #174EA6;\n",
              "    }\n",
              "\n",
              "    [theme=dark] .colab-df-convert {\n",
              "      background-color: #3B4455;\n",
              "      fill: #D2E3FC;\n",
              "    }\n",
              "\n",
              "    [theme=dark] .colab-df-convert:hover {\n",
              "      background-color: #434B5C;\n",
              "      box-shadow: 0px 1px 3px 1px rgba(0, 0, 0, 0.15);\n",
              "      filter: drop-shadow(0px 1px 2px rgba(0, 0, 0, 0.3));\n",
              "      fill: #FFFFFF;\n",
              "    }\n",
              "  </style>\n",
              "\n",
              "      <script>\n",
              "        const buttonEl =\n",
              "          document.querySelector('#df-5d21d558-6b25-4b6b-9dd9-0c1908d0f7c6 button.colab-df-convert');\n",
              "        buttonEl.style.display =\n",
              "          google.colab.kernel.accessAllowed ? 'block' : 'none';\n",
              "\n",
              "        async function convertToInteractive(key) {\n",
              "          const element = document.querySelector('#df-5d21d558-6b25-4b6b-9dd9-0c1908d0f7c6');\n",
              "          const dataTable =\n",
              "            await google.colab.kernel.invokeFunction('convertToInteractive',\n",
              "                                                     [key], {});\n",
              "          if (!dataTable) return;\n",
              "\n",
              "          const docLinkHtml = 'Like what you see? Visit the ' +\n",
              "            '<a target=\"_blank\" href=https://colab.research.google.com/notebooks/data_table.ipynb>data table notebook</a>'\n",
              "            + ' to learn more about interactive tables.';\n",
              "          element.innerHTML = '';\n",
              "          dataTable['output_type'] = 'display_data';\n",
              "          await google.colab.output.renderOutput(dataTable, element);\n",
              "          const docLink = document.createElement('div');\n",
              "          docLink.innerHTML = docLinkHtml;\n",
              "          element.appendChild(docLink);\n",
              "        }\n",
              "      </script>\n",
              "    </div>\n",
              "  </div>\n",
              "  "
            ]
          },
          "metadata": {},
          "execution_count": 8
        }
      ]
    },
    {
      "cell_type": "markdown",
      "source": [
        "We can see that 'loyalty' and 'satisfaction' are normally distributed."
      ],
      "metadata": {
        "id": "6XnQxwdviJ0Z"
      }
    },
    {
      "cell_type": "markdown",
      "source": [
        "**Scale the data**"
      ],
      "metadata": {
        "id": "sNPyO9YIrrZj"
      }
    },
    {
      "cell_type": "markdown",
      "source": [
        "To ensure the variables have a similar mean and standard deviation we can use the StandardScaler from scikit-learn."
      ],
      "metadata": {
        "id": "S1f0HyG5-j9g"
      }
    },
    {
      "cell_type": "code",
      "source": [
        "from sklearn.preprocessing import StandardScaler"
      ],
      "metadata": {
        "id": "5rLzucTY-YPE",
        "execution": {
          "iopub.status.busy": "2022-09-02T11:15:58.250066Z",
          "iopub.execute_input": "2022-09-02T11:15:58.250435Z",
          "iopub.status.idle": "2022-09-02T11:15:58.256933Z",
          "shell.execute_reply.started": "2022-09-02T11:15:58.250403Z",
          "shell.execute_reply": "2022-09-02T11:15:58.255501Z"
        },
        "trusted": true
      },
      "execution_count": 9,
      "outputs": []
    },
    {
      "cell_type": "code",
      "source": [
        "# Standarize features\n",
        "scaler = StandardScaler()\n",
        "scaler.fit(df)\n",
        "df_norm = scaler.transform(df)"
      ],
      "metadata": {
        "id": "cfvUlwRM9pIG",
        "execution": {
          "iopub.status.busy": "2022-09-02T11:15:58.260393Z",
          "iopub.execute_input": "2022-09-02T11:15:58.260953Z",
          "iopub.status.idle": "2022-09-02T11:15:58.276715Z",
          "shell.execute_reply.started": "2022-09-02T11:15:58.260903Z",
          "shell.execute_reply": "2022-09-02T11:15:58.275066Z"
        },
        "trusted": true
      },
      "execution_count": 10,
      "outputs": []
    },
    {
      "cell_type": "markdown",
      "source": [
        "**The Kneedle algorithm**"
      ],
      "metadata": {
        "id": "tcU9zyM7Cy9b"
      }
    },
    {
      "cell_type": "markdown",
      "source": [
        "When using the k means clustering algorithm, we need to specifically define k, or the number of clusters we want the algorithm to create. Rather than selecting an arbitrary value, such as the number of clusters we want for practical purposes, there’s a science to the selection of the optimum k.\n",
        "\n",
        "We’ll use the Kneedle algorithm here via Kevin Arvai’s excellent Python implementation called [Kneed](https://pypi.org/project/kneed/).\n",
        "\n",
        "The Kneedle algorithm is a generic tool designed for the detection of “knees” in data. In clustering, the knee represents the point at which adding further clustering fails to add significantly more detail."
      ],
      "metadata": {
        "id": "7IJ8ParECbwQ"
      }
    },
    {
      "cell_type": "code",
      "source": [
        "from sklearn.cluster import KMeans"
      ],
      "metadata": {
        "id": "2dJ8iU81IcBI"
      },
      "execution_count": 11,
      "outputs": []
    },
    {
      "cell_type": "code",
      "source": [
        "# A list holds the SSE values for each k\n",
        "sse = []\n",
        "\n",
        "K = range(1, 10)\n",
        "\n",
        "for k in K:\n",
        "    km = KMeans(n_clusters = k)\n",
        "    km = km.fit(df_norm)\n",
        "    sse.append(km.inertia_)"
      ],
      "metadata": {
        "id": "RNG05YFgIc_U"
      },
      "execution_count": 12,
      "outputs": []
    },
    {
      "cell_type": "code",
      "source": [
        "from kneed import KneeLocator"
      ],
      "metadata": {
        "id": "55JVbLFkpDy-",
        "execution": {
          "iopub.status.busy": "2022-09-02T11:16:09.210563Z",
          "iopub.execute_input": "2022-09-02T11:16:09.211539Z",
          "iopub.status.idle": "2022-09-02T11:16:09.216546Z",
          "shell.execute_reply.started": "2022-09-02T11:16:09.211497Z",
          "shell.execute_reply": "2022-09-02T11:16:09.215415Z"
        },
        "trusted": true
      },
      "execution_count": 14,
      "outputs": []
    },
    {
      "cell_type": "code",
      "source": [
        "kl = KneeLocator(range(1, 10), sse, curve = 'convex', direction = 'decreasing')"
      ],
      "metadata": {
        "id": "Z0V6N3_BoJvP",
        "execution": {
          "iopub.status.busy": "2022-09-02T11:16:09.218247Z",
          "iopub.execute_input": "2022-09-02T11:16:09.218729Z",
          "iopub.status.idle": "2022-09-02T11:16:09.234024Z",
          "shell.execute_reply.started": "2022-09-02T11:16:09.218685Z",
          "shell.execute_reply": "2022-09-02T11:16:09.233081Z"
        },
        "trusted": true
      },
      "execution_count": 15,
      "outputs": []
    },
    {
      "cell_type": "markdown",
      "source": [
        "Using the Kneedle algorithm on our df_norm dataframe returns a value of 4, which is what we should use as our k value to get the optimum results."
      ],
      "metadata": {
        "id": "CeU-a82nrcKQ"
      }
    },
    {
      "cell_type": "code",
      "source": [
        "kl.elbow"
      ],
      "metadata": {
        "id": "YDJiKW8zoSka",
        "outputId": "19e03176-1618-4f51-e2d2-45c25ae672b6",
        "execution": {
          "iopub.status.busy": "2022-09-02T11:16:09.235766Z",
          "iopub.execute_input": "2022-09-02T11:16:09.236605Z",
          "iopub.status.idle": "2022-09-02T11:16:09.244900Z",
          "shell.execute_reply.started": "2022-09-02T11:16:09.236562Z",
          "shell.execute_reply": "2022-09-02T11:16:09.243673Z"
        },
        "trusted": true,
        "colab": {
          "base_uri": "https://localhost:8080/"
        }
      },
      "execution_count": 16,
      "outputs": [
        {
          "output_type": "execute_result",
          "data": {
            "text/plain": [
              "4"
            ]
          },
          "metadata": {},
          "execution_count": 16
        }
      ]
    },
    {
      "cell_type": "markdown",
      "source": [
        "**Apply k-means clustering**"
      ],
      "metadata": {
        "id": "cSLlpXxILGoR"
      }
    },
    {
      "cell_type": "code",
      "source": [
        "# Create k-mean object\n",
        "kmeans = KMeans(n_clusters = 4, random_state = 42)\n",
        "\n",
        "# Train model\n",
        "kmeans.fit(df_norm)\n",
        "\n",
        "# Predict class\n",
        "df = df.assign(cluster = kmeans.labels_)"
      ],
      "metadata": {
        "id": "oaAN2Qcut9rQ",
        "execution": {
          "iopub.status.busy": "2022-09-02T11:16:09.248211Z",
          "iopub.execute_input": "2022-09-02T11:16:09.248620Z",
          "iopub.status.idle": "2022-09-02T11:16:09.282936Z",
          "shell.execute_reply.started": "2022-09-02T11:16:09.248588Z",
          "shell.execute_reply": "2022-09-02T11:16:09.281809Z"
        },
        "trusted": true
      },
      "execution_count": 17,
      "outputs": []
    },
    {
      "cell_type": "code",
      "source": [
        "df = df.sort_values(by = 'cluster', ascending = True)"
      ],
      "metadata": {
        "id": "ydhc49abMl0w"
      },
      "execution_count": 18,
      "outputs": []
    },
    {
      "cell_type": "markdown",
      "source": [
        "**Examining the customer segments**"
      ],
      "metadata": {
        "id": "oAh9mJWOEzkL"
      }
    },
    {
      "cell_type": "markdown",
      "source": [
        "To examine the clusters generated, we can use a groupby( ) on the newly created cluster column and then use the agg( ) function to calculate summary statistics for each cluster.\n",
        "\n",
        "This gives us four clear clusters. The clusters created are fairly easy to distinguish, but this doesn’t mean that four represents the optimum number of clusters for practical marketing purposes."
      ],
      "metadata": {
        "id": "9IdWVPw0ZsZt"
      }
    },
    {
      "cell_type": "code",
      "source": [
        "df.groupby('cluster').agg(satisfaction = ('satisfaction', 'mean'), loyalty = ('loyalty', 'mean'), cluster_size = ('cluster', 'count'))"
      ],
      "metadata": {
        "id": "1FBICT3WxAI7",
        "outputId": "ad0f8e5f-102a-4ce3-fa35-3787db726643",
        "execution": {
          "iopub.status.busy": "2022-09-02T11:16:09.284439Z",
          "iopub.execute_input": "2022-09-02T11:16:09.285376Z",
          "iopub.status.idle": "2022-09-02T11:16:09.311934Z",
          "shell.execute_reply.started": "2022-09-02T11:16:09.285338Z",
          "shell.execute_reply": "2022-09-02T11:16:09.310894Z"
        },
        "trusted": true,
        "colab": {
          "base_uri": "https://localhost:8080/",
          "height": 204
        }
      },
      "execution_count": 19,
      "outputs": [
        {
          "output_type": "execute_result",
          "data": {
            "text/plain": [
              "         satisfaction   loyalty  cluster_size\n",
              "cluster                                      \n",
              "0            3.428571 -1.382857             7\n",
              "1            4.333333  0.820000             6\n",
              "2            8.111111 -0.358889             9\n",
              "3            8.625000  1.002500             8"
            ],
            "text/html": [
              "\n",
              "  <div id=\"df-9becb2b1-c7b1-4b98-a651-eda535c8ba0e\">\n",
              "    <div class=\"colab-df-container\">\n",
              "      <div>\n",
              "<style scoped>\n",
              "    .dataframe tbody tr th:only-of-type {\n",
              "        vertical-align: middle;\n",
              "    }\n",
              "\n",
              "    .dataframe tbody tr th {\n",
              "        vertical-align: top;\n",
              "    }\n",
              "\n",
              "    .dataframe thead th {\n",
              "        text-align: right;\n",
              "    }\n",
              "</style>\n",
              "<table border=\"1\" class=\"dataframe\">\n",
              "  <thead>\n",
              "    <tr style=\"text-align: right;\">\n",
              "      <th></th>\n",
              "      <th>satisfaction</th>\n",
              "      <th>loyalty</th>\n",
              "      <th>cluster_size</th>\n",
              "    </tr>\n",
              "    <tr>\n",
              "      <th>cluster</th>\n",
              "      <th></th>\n",
              "      <th></th>\n",
              "      <th></th>\n",
              "    </tr>\n",
              "  </thead>\n",
              "  <tbody>\n",
              "    <tr>\n",
              "      <th>0</th>\n",
              "      <td>3.428571</td>\n",
              "      <td>-1.382857</td>\n",
              "      <td>7</td>\n",
              "    </tr>\n",
              "    <tr>\n",
              "      <th>1</th>\n",
              "      <td>4.333333</td>\n",
              "      <td>0.820000</td>\n",
              "      <td>6</td>\n",
              "    </tr>\n",
              "    <tr>\n",
              "      <th>2</th>\n",
              "      <td>8.111111</td>\n",
              "      <td>-0.358889</td>\n",
              "      <td>9</td>\n",
              "    </tr>\n",
              "    <tr>\n",
              "      <th>3</th>\n",
              "      <td>8.625000</td>\n",
              "      <td>1.002500</td>\n",
              "      <td>8</td>\n",
              "    </tr>\n",
              "  </tbody>\n",
              "</table>\n",
              "</div>\n",
              "      <button class=\"colab-df-convert\" onclick=\"convertToInteractive('df-9becb2b1-c7b1-4b98-a651-eda535c8ba0e')\"\n",
              "              title=\"Convert this dataframe to an interactive table.\"\n",
              "              style=\"display:none;\">\n",
              "        \n",
              "  <svg xmlns=\"http://www.w3.org/2000/svg\" height=\"24px\"viewBox=\"0 0 24 24\"\n",
              "       width=\"24px\">\n",
              "    <path d=\"M0 0h24v24H0V0z\" fill=\"none\"/>\n",
              "    <path d=\"M18.56 5.44l.94 2.06.94-2.06 2.06-.94-2.06-.94-.94-2.06-.94 2.06-2.06.94zm-11 1L8.5 8.5l.94-2.06 2.06-.94-2.06-.94L8.5 2.5l-.94 2.06-2.06.94zm10 10l.94 2.06.94-2.06 2.06-.94-2.06-.94-.94-2.06-.94 2.06-2.06.94z\"/><path d=\"M17.41 7.96l-1.37-1.37c-.4-.4-.92-.59-1.43-.59-.52 0-1.04.2-1.43.59L10.3 9.45l-7.72 7.72c-.78.78-.78 2.05 0 2.83L4 21.41c.39.39.9.59 1.41.59.51 0 1.02-.2 1.41-.59l7.78-7.78 2.81-2.81c.8-.78.8-2.07 0-2.86zM5.41 20L4 18.59l7.72-7.72 1.47 1.35L5.41 20z\"/>\n",
              "  </svg>\n",
              "      </button>\n",
              "      \n",
              "  <style>\n",
              "    .colab-df-container {\n",
              "      display:flex;\n",
              "      flex-wrap:wrap;\n",
              "      gap: 12px;\n",
              "    }\n",
              "\n",
              "    .colab-df-convert {\n",
              "      background-color: #E8F0FE;\n",
              "      border: none;\n",
              "      border-radius: 50%;\n",
              "      cursor: pointer;\n",
              "      display: none;\n",
              "      fill: #1967D2;\n",
              "      height: 32px;\n",
              "      padding: 0 0 0 0;\n",
              "      width: 32px;\n",
              "    }\n",
              "\n",
              "    .colab-df-convert:hover {\n",
              "      background-color: #E2EBFA;\n",
              "      box-shadow: 0px 1px 2px rgba(60, 64, 67, 0.3), 0px 1px 3px 1px rgba(60, 64, 67, 0.15);\n",
              "      fill: #174EA6;\n",
              "    }\n",
              "\n",
              "    [theme=dark] .colab-df-convert {\n",
              "      background-color: #3B4455;\n",
              "      fill: #D2E3FC;\n",
              "    }\n",
              "\n",
              "    [theme=dark] .colab-df-convert:hover {\n",
              "      background-color: #434B5C;\n",
              "      box-shadow: 0px 1px 3px 1px rgba(0, 0, 0, 0.15);\n",
              "      filter: drop-shadow(0px 1px 2px rgba(0, 0, 0, 0.3));\n",
              "      fill: #FFFFFF;\n",
              "    }\n",
              "  </style>\n",
              "\n",
              "      <script>\n",
              "        const buttonEl =\n",
              "          document.querySelector('#df-9becb2b1-c7b1-4b98-a651-eda535c8ba0e button.colab-df-convert');\n",
              "        buttonEl.style.display =\n",
              "          google.colab.kernel.accessAllowed ? 'block' : 'none';\n",
              "\n",
              "        async function convertToInteractive(key) {\n",
              "          const element = document.querySelector('#df-9becb2b1-c7b1-4b98-a651-eda535c8ba0e');\n",
              "          const dataTable =\n",
              "            await google.colab.kernel.invokeFunction('convertToInteractive',\n",
              "                                                     [key], {});\n",
              "          if (!dataTable) return;\n",
              "\n",
              "          const docLinkHtml = 'Like what you see? Visit the ' +\n",
              "            '<a target=\"_blank\" href=https://colab.research.google.com/notebooks/data_table.ipynb>data table notebook</a>'\n",
              "            + ' to learn more about interactive tables.';\n",
              "          element.innerHTML = '';\n",
              "          dataTable['output_type'] = 'display_data';\n",
              "          await google.colab.output.renderOutput(dataTable, element);\n",
              "          const docLink = document.createElement('div');\n",
              "          docLink.innerHTML = docLinkHtml;\n",
              "          element.appendChild(docLink);\n",
              "        }\n",
              "      </script>\n",
              "    </div>\n",
              "  </div>\n",
              "  "
            ]
          },
          "metadata": {},
          "execution_count": 19
        }
      ]
    },
    {
      "cell_type": "markdown",
      "source": [
        "Let's visualize the results by plotting the data colored by these labels."
      ],
      "metadata": {
        "id": "4qkOBWpT03Vr"
      }
    },
    {
      "cell_type": "code",
      "source": [
        "import plotly.express as px\n",
        "from gitly.colab.plot import GitlyPlotter"
      ],
      "metadata": {
        "execution": {
          "iopub.status.busy": "2022-09-02T11:29:56.662544Z",
          "iopub.execute_input": "2022-09-02T11:29:56.662974Z",
          "iopub.status.idle": "2022-09-02T11:29:57.927753Z",
          "shell.execute_reply.started": "2022-09-02T11:29:56.662939Z",
          "shell.execute_reply": "2022-09-02T11:29:57.926342Z"
        },
        "trusted": true,
        "id": "iN0akkrwG6MX"
      },
      "execution_count": 21,
      "outputs": []
    },
    {
      "cell_type": "code",
      "source": [
        "gitly = GitlyPlotter('github')"
      ],
      "metadata": {
        "id": "UUvDoBvRG6MX"
      },
      "execution_count": 22,
      "outputs": []
    },
    {
      "cell_type": "code",
      "source": [
        "fig = px.scatter(df, x = 'satisfaction', y = 'loyalty', color = 'cluster', symbol = 'cluster')\n",
        "\n",
        "fig.update_layout(title_text = \"Cluster's profile based on satisfaction and loyalty\", title_x = 0.5)\n",
        "\n",
        "fig.update_layout(xaxis_title = 'Satisfaction')\n",
        "fig.update_layout(yaxis_title = 'Loyalty')\n",
        "\n",
        "fig.update(layout_coloraxis_showscale = False)\n",
        "\n",
        "gitly.show(fig)"
      ],
      "metadata": {
        "execution": {
          "iopub.status.busy": "2022-09-02T11:37:28.071511Z",
          "iopub.execute_input": "2022-09-02T11:37:28.072882Z",
          "iopub.status.idle": "2022-09-02T11:37:28.165128Z",
          "shell.execute_reply.started": "2022-09-02T11:37:28.072826Z",
          "shell.execute_reply": "2022-09-02T11:37:28.163942Z"
        },
        "trusted": true,
        "colab": {
          "base_uri": "https://localhost:8080/",
          "height": 467
        },
        "id": "8lxipTerG6MY",
        "outputId": "f76c80fb-78c4-4159-dcaf-85f3bc8ccd47"
      },
      "execution_count": 23,
      "outputs": [
        {
          "output_type": "execute_result",
          "data": {
            "image/png": "[encoded data removed]",
            "text/plain": [
              "<IPython.core.display.Image object>"
            ]
          },
          "metadata": {},
          "execution_count": 23
        }
      ]
    },
    {
      "cell_type": "markdown",
      "source": [
        "As illustrated in the above plot, we can get the following information for each of the segments:\n",
        "\n",
        "**0.** customers with **low** satisfaction and **low** loyalty\n",
        "\n",
        "**1.** customers with **medium** satisfaction and **high** loyalty\n",
        "\n",
        "**2.** customers with **high** satisfaction and **low** loyalty\n",
        "\n",
        "**3.** customers with **high** satisfaction and **high** loyalty"
      ],
      "metadata": {
        "id": "a74DOm4gFX1X"
      }
    },
    {
      "cell_type": "markdown",
      "source": [
        "**From Apostles to Terrorists**"
      ],
      "metadata": {
        "id": "NQZ9MxpJbzkm"
      }
    },
    {
      "cell_type": "markdown",
      "source": [
        "A popular model that provides a differentiated view of customer loyalty is the Apostle Model, developed at Harvard Business School. Based on satisfaction and loyalty, this approach segments customers into four quadrants: Loyalists, Hostages, Mercenaries, and Defectors."
      ],
      "metadata": {
        "id": "aIaUZyf_bZxc"
      }
    },
    {
      "cell_type": "markdown",
      "source": [
        "![model.png](data:image/png;base64,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)"
      ],
      "metadata": {
        "id": "pv-1NCL33Qsc"
      }
    },
    {
      "cell_type": "markdown",
      "source": [
        "**Labeling the customers by segment**"
      ],
      "metadata": {
        "id": "UmZZTYgB-pPF"
      }
    },
    {
      "cell_type": "markdown",
      "source": [
        "Finally, to make our new segments a bit easier for non-technical marketers to understand, we can assign them each a label indicating their approximate value to the business. "
      ],
      "metadata": {
        "id": "XoRx-Xdn-kld"
      }
    },
    {
      "cell_type": "code",
      "source": [
        "segments = {0: 'Defectors/Terrorists', 1: 'Hostage', 2: 'Mercenaries', 3: 'Loyalists/Apostles'}\n",
        "df['segment'] = df['cluster'].map(segments)\n",
        "df.head()"
      ],
      "metadata": {
        "id": "L4XJ8qK-_8bq",
        "outputId": "13fbc0d7-09e9-4dd8-cfce-01fa784980d9",
        "execution": {
          "iopub.status.busy": "2022-09-02T11:16:09.642414Z",
          "iopub.execute_input": "2022-09-02T11:16:09.642812Z",
          "iopub.status.idle": "2022-09-02T11:16:09.657967Z",
          "shell.execute_reply.started": "2022-09-02T11:16:09.642778Z",
          "shell.execute_reply": "2022-09-02T11:16:09.656853Z"
        },
        "trusted": true,
        "colab": {
          "base_uri": "https://localhost:8080/",
          "height": 204
        }
      },
      "execution_count": 24,
      "outputs": [
        {
          "output_type": "execute_result",
          "data": {
            "text/plain": [
              "    satisfaction  loyalty  cluster               segment\n",
              "0              4    -1.33        0  Defectors/Terrorists\n",
              "2              5    -0.99        0  Defectors/Terrorists\n",
              "23             3    -0.96        0  Defectors/Terrorists\n",
              "5              1    -1.66        0  Defectors/Terrorists\n",
              "21             3    -1.69        0  Defectors/Terrorists"
            ],
            "text/html": [
              "\n",
              "  <div id=\"df-b3f19786-42b8-4a3d-b0e4-1af254930227\">\n",
              "    <div class=\"colab-df-container\">\n",
              "      <div>\n",
              "<style scoped>\n",
              "    .dataframe tbody tr th:only-of-type {\n",
              "        vertical-align: middle;\n",
              "    }\n",
              "\n",
              "    .dataframe tbody tr th {\n",
              "        vertical-align: top;\n",
              "    }\n",
              "\n",
              "    .dataframe thead th {\n",
              "        text-align: right;\n",
              "    }\n",
              "</style>\n",
              "<table border=\"1\" class=\"dataframe\">\n",
              "  <thead>\n",
              "    <tr style=\"text-align: right;\">\n",
              "      <th></th>\n",
              "      <th>satisfaction</th>\n",
              "      <th>loyalty</th>\n",
              "      <th>cluster</th>\n",
              "      <th>segment</th>\n",
              "    </tr>\n",
              "  </thead>\n",
              "  <tbody>\n",
              "    <tr>\n",
              "      <th>0</th>\n",
              "      <td>4</td>\n",
              "      <td>-1.33</td>\n",
              "      <td>0</td>\n",
              "      <td>Defectors/Terrorists</td>\n",
              "    </tr>\n",
              "    <tr>\n",
              "      <th>2</th>\n",
              "      <td>5</td>\n",
              "      <td>-0.99</td>\n",
              "      <td>0</td>\n",
              "      <td>Defectors/Terrorists</td>\n",
              "    </tr>\n",
              "    <tr>\n",
              "      <th>23</th>\n",
              "      <td>3</td>\n",
              "      <td>-0.96</td>\n",
              "      <td>0</td>\n",
              "      <td>Defectors/Terrorists</td>\n",
              "    </tr>\n",
              "    <tr>\n",
              "      <th>5</th>\n",
              "      <td>1</td>\n",
              "      <td>-1.66</td>\n",
              "      <td>0</td>\n",
              "      <td>Defectors/Terrorists</td>\n",
              "    </tr>\n",
              "    <tr>\n",
              "      <th>21</th>\n",
              "      <td>3</td>\n",
              "      <td>-1.69</td>\n",
              "      <td>0</td>\n",
              "      <td>Defectors/Terrorists</td>\n",
              "    </tr>\n",
              "  </tbody>\n",
              "</table>\n",
              "</div>\n",
              "      <button class=\"colab-df-convert\" onclick=\"convertToInteractive('df-b3f19786-42b8-4a3d-b0e4-1af254930227')\"\n",
              "              title=\"Convert this dataframe to an interactive table.\"\n",
              "              style=\"display:none;\">\n",
              "        \n",
              "  <svg xmlns=\"http://www.w3.org/2000/svg\" height=\"24px\"viewBox=\"0 0 24 24\"\n",
              "       width=\"24px\">\n",
              "    <path d=\"M0 0h24v24H0V0z\" fill=\"none\"/>\n",
              "    <path d=\"M18.56 5.44l.94 2.06.94-2.06 2.06-.94-2.06-.94-.94-2.06-.94 2.06-2.06.94zm-11 1L8.5 8.5l.94-2.06 2.06-.94-2.06-.94L8.5 2.5l-.94 2.06-2.06.94zm10 10l.94 2.06.94-2.06 2.06-.94-2.06-.94-.94-2.06-.94 2.06-2.06.94z\"/><path d=\"M17.41 7.96l-1.37-1.37c-.4-.4-.92-.59-1.43-.59-.52 0-1.04.2-1.43.59L10.3 9.45l-7.72 7.72c-.78.78-.78 2.05 0 2.83L4 21.41c.39.39.9.59 1.41.59.51 0 1.02-.2 1.41-.59l7.78-7.78 2.81-2.81c.8-.78.8-2.07 0-2.86zM5.41 20L4 18.59l7.72-7.72 1.47 1.35L5.41 20z\"/>\n",
              "  </svg>\n",
              "      </button>\n",
              "      \n",
              "  <style>\n",
              "    .colab-df-container {\n",
              "      display:flex;\n",
              "      flex-wrap:wrap;\n",
              "      gap: 12px;\n",
              "    }\n",
              "\n",
              "    .colab-df-convert {\n",
              "      background-color: #E8F0FE;\n",
              "      border: none;\n",
              "      border-radius: 50%;\n",
              "      cursor: pointer;\n",
              "      display: none;\n",
              "      fill: #1967D2;\n",
              "      height: 32px;\n",
              "      padding: 0 0 0 0;\n",
              "      width: 32px;\n",
              "    }\n",
              "\n",
              "    .colab-df-convert:hover {\n",
              "      background-color: #E2EBFA;\n",
              "      box-shadow: 0px 1px 2px rgba(60, 64, 67, 0.3), 0px 1px 3px 1px rgba(60, 64, 67, 0.15);\n",
              "      fill: #174EA6;\n",
              "    }\n",
              "\n",
              "    [theme=dark] .colab-df-convert {\n",
              "      background-color: #3B4455;\n",
              "      fill: #D2E3FC;\n",
              "    }\n",
              "\n",
              "    [theme=dark] .colab-df-convert:hover {\n",
              "      background-color: #434B5C;\n",
              "      box-shadow: 0px 1px 3px 1px rgba(0, 0, 0, 0.15);\n",
              "      filter: drop-shadow(0px 1px 2px rgba(0, 0, 0, 0.3));\n",
              "      fill: #FFFFFF;\n",
              "    }\n",
              "  </style>\n",
              "\n",
              "      <script>\n",
              "        const buttonEl =\n",
              "          document.querySelector('#df-b3f19786-42b8-4a3d-b0e4-1af254930227 button.colab-df-convert');\n",
              "        buttonEl.style.display =\n",
              "          google.colab.kernel.accessAllowed ? 'block' : 'none';\n",
              "\n",
              "        async function convertToInteractive(key) {\n",
              "          const element = document.querySelector('#df-b3f19786-42b8-4a3d-b0e4-1af254930227');\n",
              "          const dataTable =\n",
              "            await google.colab.kernel.invokeFunction('convertToInteractive',\n",
              "                                                     [key], {});\n",
              "          if (!dataTable) return;\n",
              "\n",
              "          const docLinkHtml = 'Like what you see? Visit the ' +\n",
              "            '<a target=\"_blank\" href=https://colab.research.google.com/notebooks/data_table.ipynb>data table notebook</a>'\n",
              "            + ' to learn more about interactive tables.';\n",
              "          element.innerHTML = '';\n",
              "          dataTable['output_type'] = 'display_data';\n",
              "          await google.colab.output.renderOutput(dataTable, element);\n",
              "          const docLink = document.createElement('div');\n",
              "          docLink.innerHTML = docLinkHtml;\n",
              "          element.appendChild(docLink);\n",
              "        }\n",
              "      </script>\n",
              "    </div>\n",
              "  </div>\n",
              "  "
            ]
          },
          "metadata": {},
          "execution_count": 24
        }
      ]
    }
  ]
}